{
 "cells": [
  {
   "cell_type": "raw",
   "id": "1f76cdc8-1cb0-435e-848a-865826b149f1",
   "metadata": {},
   "source": [
    "#1.Write a Python function that takes a list of numbers as input and returns the sum of all even numbers in \n",
    "the list"
   ]
  },
  {
   "cell_type": "code",
   "execution_count": 192,
   "id": "ff95f072-4126-41a1-a6cf-80a92c1399eb",
   "metadata": {},
   "outputs": [],
   "source": [
    "def sum_even(nums):\n",
    "    return sum(x for x in nums if x % 2==0)\n",
    "    \n",
    "    print (sum_even ([1,2,3,4,5,]))"
   ]
  },
  {
   "cell_type": "code",
   "execution_count": 200,
   "id": "d6d0127f-d947-4ebd-8808-ab83b144cdd8",
   "metadata": {},
   "outputs": [
    {
     "name": "stdout",
     "output_type": "stream",
     "text": [
      "nohtyP\n"
     ]
    }
   ],
   "source": [
    "#2. Create a Python function that accepts a string and returns the reverse of that string.\n",
    "\n",
    "\n",
    "def reverse_string(s):\n",
    "    return s[::-1]\n",
    "\n",
    "print(reverse_string(\"Python\"))\n"
   ]
  },
  {
   "cell_type": "code",
   "execution_count": 197,
   "id": "7fcad1bd-c741-4b21-9572-7eb85e9df4ce",
   "metadata": {},
   "outputs": [
    {
     "name": "stdout",
     "output_type": "stream",
     "text": [
      "[1, 4, 9, 16]\n"
     ]
    }
   ],
   "source": [
    "#3Implement a Python function that takes a list of integers and returns a new list containing the squares of \n",
    "each number\n",
    "\n",
    "def squares(nums):\n",
    "    return [x*x for x in nums]\n",
    "\n",
    "print(squares([1,2,3,4]))\n"
   ]
  },
  {
   "cell_type": "code",
   "execution_count": 201,
   "id": "de9a44e3-ff31-4e11-a864-29dfb1145efa",
   "metadata": {},
   "outputs": [
    {
     "name": "stdout",
     "output_type": "stream",
     "text": [
      "[2, 3, 5, 7, 11, 13, 17, 19, 23, 29, 31, 37, 41, 43, 47, 53, 59, 61, 67, 71, 73, 79, 83, 89, 97, 101, 103, 107, 109, 113, 127, 131, 137, 139, 149, 151, 157, 163, 167, 173, 179, 181, 191, 193, 197, 199]\n"
     ]
    }
   ],
   "source": [
    "#4.Write a Python function that checks if a given number is prime or not from 1 to 200\n",
    "\n",
    "def is_prime(n):\n",
    "    if n < 2: return False\n",
    "    for i in range(2, int(n**0.5)+1):\n",
    "        if n % i == 0:\n",
    "            return False\n",
    "    return True\n",
    "\n",
    "primes = [n for n in range(1,201) if is_prime(n)]\n",
    "print(primes)\n"
   ]
  },
  {
   "cell_type": "code",
   "execution_count": 202,
   "id": "813dbf04-c60c-489c-a483-529918d01ca1",
   "metadata": {},
   "outputs": [
    {
     "ename": "IndentationError",
     "evalue": "expected an indented block after 'if' statement on line 9 (1479043113.py, line 10)",
     "output_type": "error",
     "traceback": [
      "  \u001b[36mCell\u001b[39m\u001b[36m \u001b[39m\u001b[32mIn[202]\u001b[39m\u001b[32m, line 10\u001b[39m\n\u001b[31m    \u001b[39m\u001b[31melse:\u001b[39m\n    ^\n\u001b[31mIndentationError\u001b[39m\u001b[31m:\u001b[39m expected an indented block after 'if' statement on line 9\n"
     ]
    }
   ],
   "source": [
    "#5.Create an iterator class in Python that generates the Fibonacci sequence up to a specified number of \n",
    "terms\n",
    "\n",
    "class Fibonacci:\n",
    "    def __init__(self, n):\n",
    "        \n",
    "    def __iter__(self): return self\n",
    "    def __next__(self):\n",
    "        if self.count < self.n:\n",
    "        else:\n",
    "            raise StopIteration\n",
    "\n",
    "for num in Fibonacci(10):\n",
    "    print(num)\n"
   ]
  },
  {
   "cell_type": "markdown",
   "id": "5ce112ed-6de0-4b27-9f53-93870e34cad4",
   "metadata": {},
   "source": [
    "#6 Write a generator function in Python that yields the powers of 2 up to a given exponent\n",
    "def powers_of_two(n):\n",
    "    for i in range(n+1):\n",
    "        yield 2**i\n",
    "\n",
    "print(list(powers_of_two(5)))\n"
   ]
  },
  {
   "cell_type": "code",
   "execution_count": 203,
   "id": "917de32c-5c38-4a7b-bab7-fe7fdc10d1d9",
   "metadata": {},
   "outputs": [
    {
     "name": "stdout",
     "output_type": "stream",
     "text": [
      "[1, 2, 4, 8, 16, 32]\n"
     ]
    }
   ],
   "source": [
    "def powers_of_two(n):\n",
    "    for i in range(n+1):\n",
    "        yield 2**i\n",
    "\n",
    "print(list(powers_of_two(5)))\n"
   ]
  },
  {
   "cell_type": "code",
   "execution_count": 207,
   "id": "b76429a4-6d73-4211-81c5-ac8943c70ed3",
   "metadata": {},
   "outputs": [
    {
     "ename": "SyntaxError",
     "evalue": "expected ':' (2839492591.py, line 4)",
     "output_type": "error",
     "traceback": [
      "  \u001b[36mCell\u001b[39m\u001b[36m \u001b[39m\u001b[32mIn[207]\u001b[39m\u001b[32m, line 4\u001b[39m\n\u001b[31m    \u001b[39m\u001b[31mwith open(filename, \"r\") as f\u001b[39m\n                                 ^\n\u001b[31mSyntaxError\u001b[39m\u001b[31m:\u001b[39m expected ':'\n"
     ]
    }
   ],
   "source": [
    "#7. Implement a generator function that reads a file line by line and yields each line as a string\n",
    "\n",
    "def read_file(filename):\n",
    "    with open(filename, \"r\") as f\n",
    "        for line in f:\n",
    "            yield line.strip()\n"
   ]
  },
  {
   "cell_type": "code",
   "execution_count": 208,
   "id": "2985ff08-c224-499d-8d72-8d008b50b421",
   "metadata": {},
   "outputs": [],
   "source": [
    "#8.Use a lambda function in Python to sort a list of tuples based on the second element of each tuple."
   ]
  },
  {
   "cell_type": "code",
   "execution_count": 209,
   "id": "064f7262-d540-4862-ab95-0f2e35a82c2b",
   "metadata": {},
   "outputs": [
    {
     "name": "stdout",
     "output_type": "stream",
     "text": [
      "[(2, 1), (3, 3), (1, 5)]\n"
     ]
    }
   ],
   "source": [
    "data = [(1,5),(2,1),(3,3)]\n",
    "sorted_data = sorted(data, key=lambda x: x[1])\n",
    "print(sorted_data)  \n"
   ]
  },
  {
   "cell_type": "code",
   "execution_count": 210,
   "id": "1e25a70d-4c85-4e8b-a967-f3a8b7ed187b",
   "metadata": {},
   "outputs": [],
   "source": [
    "#9.Write a Python program that uses `map()` to convert a list of temperatures from Celsius to Fahrenheit."
   ]
  },
  {
   "cell_type": "code",
   "execution_count": 211,
   "id": "872c22d6-0b79-49bb-a5c3-97d030a5e6e7",
   "metadata": {},
   "outputs": [
    {
     "name": "stdout",
     "output_type": "stream",
     "text": [
      "[32.0, 68.0, 86.0, 104.0]\n"
     ]
    }
   ],
   "source": [
    "temps_c = [0,20,30,40]\n",
    "temps_f = list(map(lambda c: (c*9/5)+32, temps_c))\n",
    "print(temps_f)\n"
   ]
  },
  {
   "cell_type": "code",
   "execution_count": 212,
   "id": "dc9aaf03-2570-4e8b-bf2a-12d78ce28db4",
   "metadata": {},
   "outputs": [],
   "source": [
    "#10.Create a Python program that uses `filter()` to remove all the vowels from a given string"
   ]
  },
  {
   "cell_type": "code",
   "execution_count": 213,
   "id": "fba512a1-7ceb-4141-b781-f0049d1e3c33",
   "metadata": {},
   "outputs": [
    {
     "name": "stdout",
     "output_type": "stream",
     "text": [
      "hll wrld\n"
     ]
    }
   ],
   "source": [
    "s = \"hello world\"\n",
    "result = \"\".join(filter(lambda x: x.lower() not in \"aeiou\", s))\n",
    "print(result)  \n"
   ]
  },
  {
   "cell_type": "code",
   "execution_count": null,
   "id": "489b2d45-c5d0-4c24-adc3-f3595ddb7dda",
   "metadata": {},
   "outputs": [],
   "source": []
  }
 ],
 "metadata": {
  "kernelspec": {
   "display_name": "Python 3 (ipykernel)",
   "language": "python",
   "name": "python3"
  },
  "language_info": {
   "codemirror_mode": {
    "name": "ipython",
    "version": 3
   },
   "file_extension": ".py",
   "mimetype": "text/x-python",
   "name": "python",
   "nbconvert_exporter": "python",
   "pygments_lexer": "ipython3",
   "version": "3.13.5"
  }
 },
 "nbformat": 4,
 "nbformat_minor": 5
}
